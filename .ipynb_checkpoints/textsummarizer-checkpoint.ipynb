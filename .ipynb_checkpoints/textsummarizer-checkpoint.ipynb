{
 "cells": [
  {
   "cell_type": "markdown",
   "id": "9c38df33",
   "metadata": {},
   "source": [
    "##   \n",
    "\n",
    "\n",
    "\n",
    "**Q-4. Take any text file and now your task is to Text Summarization without using\n",
    "hugging transformer library**"
   ]
  },
  {
   "cell_type": "code",
   "execution_count": 1,
   "id": "58aee30d",
   "metadata": {},
   "outputs": [],
   "source": [
    "import numpy as np \n",
    "import pandas as pd \n",
    "import nltk\n",
    "from nltk.corpus import stopwords"
   ]
  },
  {
   "cell_type": "code",
   "execution_count": 2,
   "id": "82681ade",
   "metadata": {},
   "outputs": [],
   "source": [
    "#!pip install textract"
   ]
  },
  {
   "cell_type": "code",
   "execution_count": 3,
   "id": "8902a7bd",
   "metadata": {},
   "outputs": [],
   "source": [
    "import textract"
   ]
  },
  {
   "cell_type": "code",
   "execution_count": 4,
   "id": "b4c9b83d",
   "metadata": {},
   "outputs": [],
   "source": [
    "text = textract.process('003.txt') ## the output is in binary form\n",
    "#text = textract.process('002.txt')\n",
    "text = text.decode()"
   ]
  },
  {
   "cell_type": "code",
   "execution_count": 5,
   "id": "31815cb8",
   "metadata": {},
   "outputs": [
    {
     "name": "stdout",
     "output_type": "stream",
     "text": [
      "Yukos unit buyer faces loan claim\n",
      "\n",
      "The owners of embattled Russian oil giant Yukos are to ask the buyer of its former production unit to pay back a $900m (£479m) loan.\n",
      "\n",
      "State-owned Rosneft bought the Yugansk unit for $9.3bn in a sale forced by Russia to part settle a $27.5bn tax claim against Yukos. Yukos' owner Menatep Group says it will ask Rosneft to repay a loan that Yugansk had secured on its assets. Rosneft already faces a similar $540m repayment demand from foreign banks. Legal experts said Rosneft's purchase of Yugansk would include such obligations. \"The pledged assets are with Rosneft, so it will have to pay real money to the creditors to avoid seizure of Yugansk assets,\" said Moscow-based US lawyer Jamie Firestone, who is not connected to the case. Menatep Group's managing director Tim Osborne told the Reuters news agency: \"If they default, we will fight them where the rule of law exists under the international arbitration clauses of the credit.\"\n",
      "\n",
      "Rosneft officials were unavailable for comment. But the company has said it intends to take action against Menatep to recover some of the tax claims and debts owed by Yugansk. Yukos had filed for bankruptcy protection in a US court in an attempt to prevent the forced sale of its main production arm. The sale went ahead in December and Yugansk was sold to a little-known shell company which in turn was bought by Rosneft. Yukos claims its downfall was punishment for the political ambitions of its founder Mikhail Khodorkovsky and has vowed to sue any participant in the sale.\n",
      "\n"
     ]
    }
   ],
   "source": [
    "print(text)"
   ]
  },
  {
   "cell_type": "markdown",
   "id": "31997d92",
   "metadata": {},
   "source": [
    "## Summarization using NLTK"
   ]
  },
  {
   "cell_type": "code",
   "execution_count": 6,
   "id": "a0fa4443",
   "metadata": {},
   "outputs": [],
   "source": [
    "def summarizer_nltk(text1): \n",
    "    \"\"\"\n",
    "    Given the text data, this function will give the summary using nltk tools. \n",
    "    \"\"\"\n",
    "    words = nltk.word_tokenize(text)\n",
    "    sent = nltk.sent_tokenize(text) \n",
    "    \n",
    "    word_dict = dict()\n",
    "    for word in words : \n",
    "        if word not in  stopwords.words('english'): \n",
    "            if word not in word_dict.keys(): \n",
    "                word_dict[word] = 1 \n",
    "            else : \n",
    "                word_dict[word] += 1\n",
    "    \n",
    "    most_frequent = max(word_dict.values())\n",
    "    #print(most_frequent)\n",
    "    \n",
    "    \n",
    "    word_freq_dict = dict()\n",
    "    for words in word_dict: \n",
    "        word_freq_dict[words] = word_dict[word]/most_frequent\n",
    "    \n",
    "    sent_dict = dict()\n",
    "    for sentences in sent: \n",
    "        for word, value in word_freq_dict.items(): \n",
    "            if word in sentences: \n",
    "                if sentences not in sent_dict.keys():\n",
    "                    sent_dict[sentences] = word_freq_dict[word]\n",
    "                \n",
    "                else : \n",
    "                    sent_dict[sentences] += word_freq_dict[word]\n",
    "               \n",
    "    \n",
    "    mean_sent_score = sum(sent_dict.values())/len(sent_dict.values())\n",
    "\n",
    "    #print(f'Mean score of all the sentences : {mean_sent_score}')\n",
    "    #print(sent_dict)\n",
    "    #print(word_dict)\n",
    "\n",
    "    summary = ''\n",
    "    for sentences in sent:\n",
    "        if (sentences in sent_dict) and (sent_dict[sentences] > (1.2 * mean_sent_score)):\n",
    "            summary += \" \" + sentences\n",
    "    print(summary)\n",
    "   \n",
    "    return summary    "
   ]
  },
  {
   "cell_type": "code",
   "execution_count": 7,
   "id": "1087e2bd",
   "metadata": {},
   "outputs": [
    {
     "name": "stdout",
     "output_type": "stream",
     "text": [
      " Yukos unit buyer faces loan claim\n",
      "\n",
      "The owners of embattled Russian oil giant Yukos are to ask the buyer of its former production unit to pay back a $900m (£479m) loan. \"The pledged assets are with Rosneft, so it will have to pay real money to the creditors to avoid seizure of Yugansk assets,\" said Moscow-based US lawyer Jamie Firestone, who is not connected to the case. Menatep Group's managing director Tim Osborne told the Reuters news agency: \"If they default, we will fight them where the rule of law exists under the international arbitration clauses of the credit.\"\n"
     ]
    }
   ],
   "source": [
    "text_summary1 = summarizer_nltk(text)"
   ]
  },
  {
   "cell_type": "code",
   "execution_count": 8,
   "id": "dfb803a4",
   "metadata": {},
   "outputs": [
    {
     "name": "stdout",
     "output_type": "stream",
     "text": [
      "Length of text :  1551\n",
      "Length of summary using basic NLTK :  575\n"
     ]
    }
   ],
   "source": [
    "print('Length of text : ', len(text))\n",
    "print('Length of summary using basic NLTK : ', len(text_summary1))"
   ]
  },
  {
   "cell_type": "markdown",
   "id": "ce777c9a",
   "metadata": {},
   "source": [
    "## Summarization using gensim"
   ]
  },
  {
   "cell_type": "code",
   "execution_count": 9,
   "id": "a1b01759",
   "metadata": {},
   "outputs": [],
   "source": [
    "import gensim"
   ]
  },
  {
   "cell_type": "code",
   "execution_count": 10,
   "id": "41bea83b",
   "metadata": {},
   "outputs": [],
   "source": [
    "from gensim.summarization import summarize"
   ]
  },
  {
   "cell_type": "code",
   "execution_count": 11,
   "id": "306544b1",
   "metadata": {},
   "outputs": [
    {
     "name": "stdout",
     "output_type": "stream",
     "text": [
      "The owners of embattled Russian oil giant Yukos are to ask the buyer of its former production unit to pay back a $900m (£479m) loan.\n",
      "State-owned Rosneft bought the Yugansk unit for $9.3bn in a sale forced by Russia to part settle a $27.5bn tax claim against Yukos.\n",
      "Yukos' owner Menatep Group says it will ask Rosneft to repay a loan that Yugansk had secured on its assets.\n"
     ]
    }
   ],
   "source": [
    "text_summary2 = summarize(text, ratio=0.3)\n",
    "print(text_summary2)"
   ]
  },
  {
   "cell_type": "code",
   "execution_count": 12,
   "id": "7b5e4351",
   "metadata": {},
   "outputs": [
    {
     "name": "stdout",
     "output_type": "stream",
     "text": [
      "372\n"
     ]
    }
   ],
   "source": [
    "print(len(text_summary2))"
   ]
  },
  {
   "cell_type": "code",
   "execution_count": 13,
   "id": "61bd3440",
   "metadata": {},
   "outputs": [
    {
     "name": "stdout",
     "output_type": "stream",
     "text": [
      "Yukos unit buyer faces loan claim\n",
      "The owners of embattled Russian oil giant Yukos are to ask the buyer of its former production unit to pay back a $900m (£479m) loan.\n",
      "State-owned Rosneft bought the Yugansk unit for $9.3bn in a sale forced by Russia to part settle a $27.5bn tax claim against Yukos.\n",
      "Yukos' owner Menatep Group says it will ask Rosneft to repay a loan that Yugansk had secured on its assets.\n",
      "But the company has said it intends to take action against Menatep to recover some of the tax claims and debts owed by Yugansk.\n"
     ]
    }
   ],
   "source": [
    "text_summary3 = summarize(text, word_count=100)\n",
    "print(text_summary3)"
   ]
  },
  {
   "cell_type": "code",
   "execution_count": null,
   "id": "73df82fc",
   "metadata": {},
   "outputs": [],
   "source": []
  },
  {
   "cell_type": "code",
   "execution_count": null,
   "id": "3372ac03",
   "metadata": {},
   "outputs": [],
   "source": []
  },
  {
   "cell_type": "code",
   "execution_count": null,
   "id": "2441efdb",
   "metadata": {},
   "outputs": [],
   "source": []
  },
  {
   "cell_type": "markdown",
   "id": "4cbc1ffd",
   "metadata": {},
   "source": [
    "### Some good reads :\n",
    "\n",
    "\n",
    "- https://www.geeksforgeeks.org/python-text-summarizer/ \n",
    "\n",
    "- https://www.analyticsvidhya.com/blog/2020/12/tired-of-reading-long-articles-text-summarization-will-make-your-task-easier/ \n",
    "\n",
    "- https://www.mygreatlearning.com/blog/text-summarization-in-python/ \n",
    "\n",
    "- https://www.analyticsvidhya.com/blog/2022/01/youtube-summariser-mini-nlp-project/\n",
    "\n",
    "- https://www.analyticsvidhya.com/blog/2021/11/a-beginners-guide-to-understanding-text-summarization-with-nlp/ \n",
    "\n",
    "- https://www.activestate.com/blog/how-to-do-text-summarization-with-python/ \n",
    "\n",
    "- https://becominghuman.ai/text-summarization-in-5-steps-using-nltk-65b21e352b65\n",
    "\n",
    "- https://www.turing.com/kb/5-powerful-text-summarization-techniques-in-python \n",
    "\n",
    "- https://www.scaler.com/topics/nlp/building-a-text-summarizer-in-nlp/\n"
   ]
  },
  {
   "cell_type": "code",
   "execution_count": null,
   "id": "06941fb9",
   "metadata": {},
   "outputs": [],
   "source": []
  }
 ],
 "metadata": {
  "kernelspec": {
   "display_name": "Python 3",
   "language": "python",
   "name": "python3"
  },
  "language_info": {
   "codemirror_mode": {
    "name": "ipython",
    "version": 3
   },
   "file_extension": ".py",
   "mimetype": "text/x-python",
   "name": "python",
   "nbconvert_exporter": "python",
   "pygments_lexer": "ipython3",
   "version": "3.8.8"
  }
 },
 "nbformat": 4,
 "nbformat_minor": 5
}
